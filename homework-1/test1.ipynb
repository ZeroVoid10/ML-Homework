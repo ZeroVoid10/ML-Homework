{
 "cells": [
  {
   "cell_type": "code",
   "execution_count": 1,
   "metadata": {},
   "outputs": [],
   "source": [
    "import numpy as np\n",
    "import pandas as pd\n",
    "\n",
    "data = pd.read_csv('adult.csv', header=None, index_col=False,\n",
    "                   names=['年龄','单位性质','权重','学历','受教育时长','婚姻状况','职业','家庭状况','种族','性别',\n",
    "                          '资产所得','资产损失','周工作时长','原籍','收入'])\n",
    "\n",
    "data_dummies = pd.get_dummies(data)\n",
    "\n",
    "features = data_dummies.loc[:,'年龄':'原籍_ Yugoslavia']\n",
    "\n",
    "X = features.values\n",
    "y = data_dummies['收入_ >50K'].values"
   ]
  },
  {
   "cell_type": "code",
   "execution_count": 2,
   "metadata": {},
   "outputs": [
    {
     "name": "stdout",
     "output_type": "stream",
     "text": [
      "(32561, 108)\n",
      "(32561,)\n"
     ]
    }
   ],
   "source": [
    "print(X.shape)\n",
    "print(y.shape)"
   ]
  },
  {
   "cell_type": "code",
   "execution_count": 3,
   "metadata": {},
   "outputs": [
    {
     "name": "stdout",
     "output_type": "stream",
     "text": [
      "pos = 7841\n",
      "neg = 24720\n"
     ]
    }
   ],
   "source": [
    "import numpy as np\n",
    "\n",
    "pos = 0\n",
    "neg = 0\n",
    "\n",
    "for i in range(0, 32561):\n",
    "    if(y[i] == 1):\n",
    "        pos = pos + 1\n",
    "    else:\n",
    "        neg = neg + 1\n",
    "\n",
    "print('pos =', pos)\n",
    "print('neg =', neg)"
   ]
  },
  {
   "cell_type": "code",
   "execution_count": 4,
   "metadata": {},
   "outputs": [],
   "source": [
    "pos = 0\n",
    "neg = 0\n",
    "\n",
    "X_pos = np.zeros(shape = (7841,108), dtype = int)\n",
    "X_neg = np.zeros(shape = (24720,108), dtype = int)\n",
    "y_pos = np.zeros(shape = (7841,), dtype = int)\n",
    "y_neg = np.ones(shape = (24720,), dtype = int)\n",
    "\n",
    "for i in range(0, 32561):\n",
    "    if(y[i] == 1):\n",
    "        X_pos[pos] = X[i]\n",
    "        pos = pos + 1\n",
    "    else:\n",
    "        X_neg[neg] = X[i]\n",
    "        neg = neg + 1"
   ]
  },
  {
   "cell_type": "code",
   "execution_count": 5,
   "metadata": {},
   "outputs": [
    {
     "name": "stdout",
     "output_type": "stream",
     "text": [
      "pospl = 784\n",
      "negpl = 2472\n",
      "pl = 3256\n"
     ]
    }
   ],
   "source": [
    "pospl = (int)(pos/10)\n",
    "negpl = (int)(neg/10)\n",
    "pl = pospl + negpl\n",
    "\n",
    "print('pospl =', pospl)\n",
    "print('negpl =', negpl)\n",
    "print('pl =', pl)"
   ]
  },
  {
   "cell_type": "code",
   "execution_count": 6,
   "metadata": {},
   "outputs": [],
   "source": [
    "from sklearn.svm import SVC\n",
    "\n",
    "svc = SVC()"
   ]
  },
  {
   "cell_type": "code",
   "execution_count": 7,
   "metadata": {},
   "outputs": [],
   "source": [
    "from sklearn.linear_model import SGDClassifier\n",
    "\n",
    "sgd = SGDClassifier()"
   ]
  },
  {
   "cell_type": "code",
   "execution_count": 10,
   "metadata": {},
   "outputs": [
    {
     "name": "stdout",
     "output_type": "stream",
     "text": [
      "[0.78931204 0.79514742 0.78839066 0.79422604 0.78777641 0.78746929\n",
      " 0.78286241 0.24078624 0.79054054 0.79453317]\n",
      "0.7351044226044225\n"
     ]
    }
   ],
   "source": [
    "scores = np.zeros(shape = (10,))\n",
    "\n",
    "for i in range(0, 10):\n",
    "    for j in range(0, 10):\n",
    "        if(i != j):\n",
    "            sgd.fit(np.append(X_pos[pospl * j : pospl * (j + 1)], X_neg[negpl * j : negpl * (j + 1)], axis = 0),\n",
    "                    np.append(y_pos[pospl * j : pospl * (j + 1)], y_neg[negpl * j : negpl * (j + 1)], axis = 0))\n",
    "    scores[i] = sgd.score(np.append(X_pos[pospl * i : pospl * (i + 1)], X_neg[negpl * i : negpl * (i + 1)], axis = 0),\n",
    "                          np.append(y_pos[pospl * i : pospl * (i + 1)], y_neg[negpl * i : negpl * (i + 1)], axis = 0))\n",
    "\n",
    "print(scores)\n",
    "\n",
    "score_sum = 0\n",
    "\n",
    "for i in range(0, 10):\n",
    "    score_sum = score_sum + scores[i]\n",
    "\n",
    "score_mean = score_sum / 10\n",
    "\n",
    "print(score_mean)"
   ]
  },
  {
   "cell_type": "code",
   "execution_count": 11,
   "metadata": {},
   "outputs": [
    {
     "name": "stdout",
     "output_type": "stream",
     "text": [
      "[0.75952088 0.75829238 0.75829238 0.75829238 0.75767813 0.76013514\n",
      " 0.75921376 0.75982801 0.76013514 0.76074939]\n",
      "0.7592137592137592\n"
     ]
    }
   ],
   "source": [
    "import warnings\n",
    "\n",
    "warnings.filterwarnings('ignore')\n",
    "\n",
    "scores = np.zeros(shape = (10,))\n",
    "\n",
    "for i in range(0, 10):\n",
    "    for j in range(0, 10):\n",
    "        if(i != j):\n",
    "            svc.fit(np.append(X_pos[pospl * j : pospl * (j + 1)], X_neg[negpl * j : negpl * (j + 1)], axis = 0),\n",
    "                    np.append(y_pos[pospl * j : pospl * (j + 1)], y_neg[negpl * j : negpl * (j + 1)], axis = 0))\n",
    "    scores[i] = svc.score(np.append(X_pos[pospl * i : pospl * (i + 1)], X_neg[negpl * i : negpl * (i + 1)], axis = 0),\n",
    "                          np.append(y_pos[pospl * i : pospl * (i + 1)], y_neg[negpl * i : negpl * (i + 1)], axis = 0))\n",
    "\n",
    "print(scores)\n",
    "\n",
    "score_sum = 0\n",
    "\n",
    "for i in range(0, 10):\n",
    "    score_sum = score_sum + scores[i]\n",
    "\n",
    "score_mean = score_sum / 10\n",
    "\n",
    "print(score_mean)"
   ]
  },
  {
   "cell_type": "code",
   "execution_count": 18,
   "metadata": {},
   "outputs": [
    {
     "name": "stderr",
     "output_type": "stream",
     "text": [
      "c:\\users\\zhenm\\appdata\\local\\programs\\python\\python37\\lib\\site-packages\\sklearn\\svm\\base.py:193: FutureWarning: The default value of gamma will change from 'auto' to 'scale' in version 0.22 to account better for unscaled features. Set gamma explicitly to 'auto' or 'scale' to avoid this warning.\n",
      "  \"avoid this warning.\", FutureWarning)\n"
     ]
    },
    {
     "name": "stdout",
     "output_type": "stream",
     "text": [
      "[-0.99980744 -0.99976772 -0.99986222 ... -1.00006587 -1.00003594\n",
      "  0.32301813]\n",
      "[0 0 0 ... 0 0 1]\n",
      "[9.62786181e-05 1.16138377e-04 6.88888180e-05 ... 0.00000000e+00\n",
      " 0.00000000e+00 6.61509065e-01]\n"
     ]
    }
   ],
   "source": [
    "svc.fit(X, y)\n",
    "y_scores = svc.decision_function(X)\n",
    "\n",
    "print(y_scores)\n",
    "\n",
    "y_sss = (y_scores + 1) /2\n",
    "\n",
    "for i in range(0, 32561):\n",
    "    if(y_sss[i] < 0):\n",
    "        y_sss[i] = 0\n",
    "    if(y_sss[i] > 1):\n",
    "        y_sss[i] = 1\n",
    "\n",
    "print(y)        \n",
    "print(y_sss)"
   ]
  },
  {
   "cell_type": "code",
   "execution_count": 17,
   "metadata": {},
   "outputs": [
    {
     "name": "stdout",
     "output_type": "stream",
     "text": [
      "[3.32527200e+07 2.59994972e+07 6.66740402e+07 ... 4.72499751e+07\n",
      " 6.21052977e+07 1.50778290e+08]\n",
      "[0 0 0 ... 0 0 1]\n",
      "[0.6662636  0.62999749 0.8333702  ... 0.73624988 0.81052649 1.        ]\n"
     ]
    }
   ],
   "source": [
    "sgd.fit(X, y)\n",
    "sgd_y_scores = sgd.decision_function(X)\n",
    "\n",
    "print(sgd_y_scores)\n",
    "\n",
    "sgd_y_sss = sgd_y_scores / 100000000\n",
    "sgd_y_sss = (sgd_y_sss + 1) / 2\n",
    "\n",
    "for i in range(0, 32561):\n",
    "    if(sgd_y_sss[i] < 0):\n",
    "        sgd_y_sss[i] = 0\n",
    "    if(sgd_y_sss[i] > 1):\n",
    "        sgd_y_sss[i] = 1\n",
    "\n",
    "print(y)\n",
    "print(sgd_y_sss)"
   ]
  },
  {
   "cell_type": "code",
   "execution_count": 40,
   "metadata": {},
   "outputs": [
    {
     "name": "stdout",
     "output_type": "stream",
     "text": [
      "2438   5403\n",
      "1269   23451\n"
     ]
    }
   ],
   "source": [
    "TP = 0\n",
    "TN = 0\n",
    "FP = 0\n",
    "FN = 0\n",
    "\n",
    "for i in range(0, 32561):\n",
    "    if(y[i] == 1):\n",
    "        if(y_predict[i] == 1):\n",
    "            TP = TP + 1\n",
    "        else:\n",
    "            FN = FN + 1\n",
    "    else:\n",
    "        if(y_predict[i] == 1):\n",
    "            FP = FP + 1\n",
    "        else:\n",
    "            TN = TN + 1\n",
    "\n",
    "print(TP, ' ', FN)\n",
    "print(FP, ' ', TN)"
   ]
  },
  {
   "cell_type": "code",
   "execution_count": 19,
   "metadata": {},
   "outputs": [
    {
     "name": "stdout",
     "output_type": "stream",
     "text": [
      "TP:\n",
      "[ 179  597  896 1252 6057 6602 6889 7160 7503 7723 7841]\n",
      "\n",
      "TN:\n",
      "[24720 24713 24708 24702 24689 24667 24637 24582 24517 24342     0]\n",
      "\n",
      "FP:\n",
      "[    0     7    12    18    31    53    83   138   203   378 24720]\n",
      "\n",
      "FN:\n",
      "[7662 7244 6945 6589 1784 1239  952  681  338  118    0]\n"
     ]
    }
   ],
   "source": [
    "y_set = np.ones(shape = (32561,), dtype = int)\n",
    "\n",
    "y_TP = np.zeros(shape = (11,), dtype = int)\n",
    "y_TN = np.zeros(shape = (11,), dtype = int)\n",
    "y_FP = np.zeros(shape = (11,), dtype = int)\n",
    "y_FN = np.zeros(shape = (11,), dtype = int)\n",
    "\n",
    "for t in range(0, 11):\n",
    "    th = 1 - 0.1 * t\n",
    "    for i in range(0, 32561):\n",
    "        if(y_sss[i] < th):\n",
    "            y_set[i] = 0\n",
    "        else:\n",
    "            y_set[i] = 1\n",
    "    \n",
    "    for j in range(0, 32561):\n",
    "        if(y[j] == 1):\n",
    "            if(y_set[j] == 1):\n",
    "                y_TP[t] = y_TP[t] + 1\n",
    "            else:\n",
    "                y_FN[t] = y_FN[t] + 1\n",
    "        else:\n",
    "            if(y_set[j] == 1):\n",
    "                y_FP[t] = y_FP[t] + 1\n",
    "            else:\n",
    "                y_TN[t] = y_TN[t] + 1\n",
    "            \n",
    "print('TP:')\n",
    "print(y_TP)\n",
    "print()\n",
    "print('TN:')\n",
    "print(y_TN)\n",
    "print()\n",
    "print('FP:')\n",
    "print(y_FP)\n",
    "print()\n",
    "print('FN:')\n",
    "print(y_FN)"
   ]
  },
  {
   "cell_type": "code",
   "execution_count": 20,
   "metadata": {},
   "outputs": [
    {
     "name": "stdout",
     "output_type": "stream",
     "text": [
      "[1.         0.9884106  0.98678414 0.98582677 0.99490802 0.99203606\n",
      " 0.98809524 0.98109071 0.97365689 0.95333909 0.24080956]\n",
      "\n",
      "[0.02282872 0.07613825 0.11427114 0.15967351 0.772478   0.84198444\n",
      " 0.87858691 0.91314883 0.95689325 0.9849509  1.        ]\n",
      "\n",
      "[0.0446384  0.14138544 0.20482341 0.27483262 0.86969632 0.91087196\n",
      " 0.93012894 0.94590131 0.96520229 0.96888722 0.3881491 ]\n"
     ]
    }
   ],
   "source": [
    "y_P = np.zeros(shape = (11,), dtype = float)\n",
    "y_R = np.zeros(shape = (11,), dtype = float)\n",
    "y_F1 = np.zeros(shape = (11,), dtype = float)\n",
    "\n",
    "for i in range(0, 11):\n",
    "    y_P[i] = y_TP[i]/(y_TP[i] + y_FP[i])\n",
    "    y_R[i] = y_TP[i]/(y_TP[i] + y_FN[i])\n",
    "    y_F1[i] = (2 * y_P[i] * y_R[i])/(y_P[i] + y_R[i])\n",
    "    \n",
    "print(y_P)\n",
    "print()\n",
    "print(y_R)\n",
    "print()\n",
    "print(y_F1)"
   ]
  },
  {
   "cell_type": "code",
   "execution_count": 22,
   "metadata": {},
   "outputs": [
    {
     "data": {
      "text/plain": [
       "[<matplotlib.lines.Line2D at 0x1443e7a2848>]"
      ]
     },
     "execution_count": 22,
     "metadata": {},
     "output_type": "execute_result"
    },
    {
     "data": {
      "image/png": "[encoded data removed]",
      "text/plain": [
       "<Figure size 432x288 with 1 Axes>"
      ]
     },
     "metadata": {
      "needs_background": "light"
     },
     "output_type": "display_data"
    }
   ],
   "source": [
    "import matplotlib.pyplot as plt\n",
    "\n",
    "plt.plot(y_R,y_P)"
   ]
  },
  {
   "cell_type": "code",
   "execution_count": 23,
   "metadata": {},
   "outputs": [
    {
     "name": "stdout",
     "output_type": "stream",
     "text": [
      "[0.02282872 0.07613825 0.11427114 0.15967351 0.772478   0.84198444\n",
      " 0.87858691 0.91314883 0.95689325 0.9849509  1.        ]\n",
      "\n",
      "[0.00000000e+00 2.83171521e-04 4.85436893e-04 7.28155340e-04\n",
      " 1.25404531e-03 2.14401294e-03 3.35760518e-03 5.58252427e-03\n",
      " 8.21197411e-03 1.52912621e-02 1.00000000e+00]\n"
     ]
    }
   ],
   "source": [
    "y_TPR = np.zeros(shape = (11,), dtype = float)\n",
    "y_FPR = np.zeros(shape = (11,), dtype = float)\n",
    "\n",
    "for i in range(0, 11):\n",
    "    y_TPR[i] = y_TP[i]/(y_TP[i] + y_FN[i])\n",
    "    y_FPR[i] = y_FP[i]/(y_TN[i] + y_FP[i])\n",
    "    \n",
    "print(y_TPR)\n",
    "print()\n",
    "print(y_FPR)"
   ]
  },
  {
   "cell_type": "code",
   "execution_count": 24,
   "metadata": {},
   "outputs": [
    {
     "data": {
      "text/plain": [
       "[<matplotlib.lines.Line2D at 0x1443e859e08>]"
      ]
     },
     "execution_count": 24,
     "metadata": {},
     "output_type": "execute_result"
    },
    {
     "data": {
      "image/png": "[encoded data removed]",
      "text/plain": [
       "<Figure size 432x288 with 1 Axes>"
      ]
     },
     "metadata": {
      "needs_background": "light"
     },
     "output_type": "display_data"
    }
   ],
   "source": [
    "plt.plot(y_FPR,y_TPR)"
   ]
  },
  {
   "cell_type": "code",
   "execution_count": 25,
   "metadata": {},
   "outputs": [
    {
     "name": "stdout",
     "output_type": "stream",
     "text": [
      "0.990698573674433\n"
     ]
    }
   ],
   "source": [
    "AUC = 0\n",
    "\n",
    "for i in range(0, 10):\n",
    "    AUC = AUC + (((y_FPR[i + 1] - y_FPR[i]) * (y_TPR[i + 1] + y_TPR[i])) / 2)\n",
    "\n",
    "print(AUC)"
   ]
  }
 ],
 "metadata": {
  "kernelspec": {
   "display_name": "Python 3",
   "language": "python",
   "name": "python3"
  },
  "language_info": {
   "codemirror_mode": {
    "name": "ipython",
    "version": 3
   },
   "file_extension": ".py",
   "mimetype": "text/x-python",
   "name": "python",
   "nbconvert_exporter": "python",
   "pygments_lexer": "ipython3",
   "version": "3.7.4"
  }
 },
 "nbformat": 4,
 "nbformat_minor": 2
}
