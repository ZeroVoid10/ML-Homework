{
 "cells": [
  {
   "cell_type": "code",
   "execution_count": 1,
   "metadata": {},
   "outputs": [],
   "source": [
    "import numpy as np\n",
    "import pandas as pd\n",
    "\n",
    "data = pd.read_csv('adult.csv', header=None, index_col=False,\n",
    "                   names=['年龄','单位性质','权重','学历','受教育时长','婚姻状况','职业','家庭状况','种族','性别',\n",
    "                          '资产所得','资产损失','周工作时长','原籍','收入'])\n",
    "\n",
    "data_dummies = pd.get_dummies(data)\n",
    "\n",
    "features = data_dummies.loc[:,'年龄':'原籍_ Yugoslavia']\n",
    "\n",
    "X = features.values\n",
    "y = data_dummies['收入_ >50K'].values"
   ]
  },
  {
   "cell_type": "code",
   "execution_count": 2,
   "metadata": {},
   "outputs": [
    {
     "name": "stdout",
     "output_type": "stream",
     "text": [
      "(32561, 108)\n",
      "(32561,)\n"
     ]
    }
   ],
   "source": [
    "print(X.shape)\n",
    "print(y.shape)"
   ]
  },
  {
   "cell_type": "code",
   "execution_count": 3,
   "metadata": {},
   "outputs": [
    {
     "name": "stdout",
     "output_type": "stream",
     "text": [
      "pos = 24720\n",
      "neg = 7841\n"
     ]
    }
   ],
   "source": [
    "import numpy as np\n",
    "\n",
    "pos = 0\n",
    "neg = 0\n",
    "\n",
    "for i in range(0, 32561):\n",
    "    if(y[i] == 0):\n",
    "        pos = pos + 1\n",
    "    else:\n",
    "        neg = neg + 1\n",
    "\n",
    "print('pos =', pos)\n",
    "print('neg =', neg)"
   ]
  },
  {
   "cell_type": "code",
   "execution_count": 4,
   "metadata": {},
   "outputs": [
    {
     "name": "stdout",
     "output_type": "stream",
     "text": [
      "[[    39  77516     13 ...      1      0      0]\n",
      " [    50  83311     13 ...      1      0      0]\n",
      " [    38 215646      9 ...      1      0      0]\n",
      " ...\n",
      " [    58 151910      9 ...      1      0      0]\n",
      " [    22 201490      9 ...      1      0      0]\n",
      " [    52 287927      9 ...      1      0      0]]\n",
      "\n",
      "[[    39  77516     13 ...      1      0      0]\n",
      " [    50  83311     13 ...      1      0      0]\n",
      " [    38 215646      9 ...      1      0      0]\n",
      " ...\n",
      " [    27 257302     12 ...      1      0      0]\n",
      " [    58 151910      9 ...      1      0      0]\n",
      " [    22 201490      9 ...      1      0      0]]\n",
      "\n",
      "[[    52 209642      9 ...      1      0      0]\n",
      " [    31  45781     14 ...      1      0      0]\n",
      " [    42 159449     13 ...      1      0      0]\n",
      " ...\n",
      " [    53 321865     14 ...      1      0      0]\n",
      " [    40 154374      9 ...      1      0      0]\n",
      " [    52 287927      9 ...      1      0      0]]\n",
      "\n",
      "[0 0 0 ... 0 0 0]\n",
      "\n",
      "[1 1 1 ... 1 1 1]\n"
     ]
    }
   ],
   "source": [
    "pos = 0\n",
    "neg = 0\n",
    "\n",
    "X_pos = np.zeros(shape = (24720,108), dtype = int)\n",
    "X_neg = np.zeros(shape = (7841,108), dtype = int)\n",
    "y_pos = np.zeros(shape = (24720,), dtype = int)\n",
    "y_neg = np.ones(shape = (7841,), dtype = int)\n",
    "\n",
    "for i in range(0, 32561):\n",
    "    if(y[i] == 0):\n",
    "        X_pos[pos] = X[i]\n",
    "        pos = pos + 1\n",
    "    else:\n",
    "        X_neg[neg] = X[i]\n",
    "        neg = neg + 1\n",
    "\n",
    "print(X)\n",
    "print()\n",
    "print(X_pos)\n",
    "print()\n",
    "print(X_neg)\n",
    "print()\n",
    "print(y_pos)\n",
    "print()\n",
    "print(y_neg)"
   ]
  },
  {
   "cell_type": "code",
   "execution_count": 5,
   "metadata": {},
   "outputs": [
    {
     "name": "stdout",
     "output_type": "stream",
     "text": [
      "pospl = 2472\n",
      "negpl = 784\n",
      "pl = 3256\n"
     ]
    }
   ],
   "source": [
    "pospl = (int)(pos/10)\n",
    "negpl = (int)(neg/10)\n",
    "pl = pospl + negpl\n",
    "\n",
    "print('pospl =', pospl)\n",
    "print('negpl =', negpl)\n",
    "print('pl =', pl)"
   ]
  },
  {
   "cell_type": "code",
   "execution_count": 6,
   "metadata": {},
   "outputs": [],
   "source": [
    "from sklearn.naive_bayes import GaussianNB\n",
    "\n",
    "gnb = GaussianNB()"
   ]
  },
  {
   "cell_type": "code",
   "execution_count": 7,
   "metadata": {},
   "outputs": [],
   "source": [
    "from sklearn.naive_bayes import BernoulliNB\n",
    "\n",
    "bnb = BernoulliNB()"
   ]
  },
  {
   "cell_type": "code",
   "execution_count": 8,
   "metadata": {},
   "outputs": [],
   "source": [
    "from sklearn.svm import SVC\n",
    "\n",
    "svc = SVC()"
   ]
  },
  {
   "cell_type": "code",
   "execution_count": 60,
   "metadata": {},
   "outputs": [],
   "source": [
    "from sklearn.linear_model import SGDClassifier\n",
    "\n",
    "sgd = SGDClassifier()"
   ]
  },
  {
   "cell_type": "code",
   "execution_count": 8,
   "metadata": {},
   "outputs": [
    {
     "name": "stdout",
     "output_type": "stream",
     "text": [
      "[0.78869779 0.79207617 0.78347666 0.78839066 0.78931204 0.79637592\n",
      " 0.77886978 0.78900491 0.78716216 0.79914005]\n",
      "0.7892506142506142\n"
     ]
    }
   ],
   "source": [
    "scores = np.zeros(shape = (10,))\n",
    "\n",
    "for i in range(0, 10):\n",
    "    for j in range(0, 10):\n",
    "        if(i != j):\n",
    "            gnb.fit(np.append(X_pos[pospl * j : pospl * (j + 1)], X_neg[negpl * j : negpl * (j + 1)], axis = 0),\n",
    "                    np.append(y_pos[pospl * j : pospl * (j + 1)], y_neg[negpl * j : negpl * (j + 1)], axis = 0))\n",
    "    scores[i] = gnb.score(np.append(X_pos[pospl * i : pospl * (i + 1)], X_neg[negpl * i : negpl * (i + 1)], axis = 0),\n",
    "                          np.append(y_pos[pospl * i : pospl * (i + 1)], y_neg[negpl * i : negpl * (i + 1)], axis = 0))\n",
    "\n",
    "print(scores)\n",
    "\n",
    "score_sum = 0\n",
    "\n",
    "for i in range(0, 10):\n",
    "    score_sum = score_sum + scores[i]\n",
    "\n",
    "score_mean = score_sum / 10\n",
    "\n",
    "print(score_mean)"
   ]
  },
  {
   "cell_type": "code",
   "execution_count": 13,
   "metadata": {},
   "outputs": [
    {
     "name": "stdout",
     "output_type": "stream",
     "text": [
      "[0.75952088 0.75829238 0.75829238 0.75829238 0.75767813 0.76013514\n",
      " 0.75921376 0.75982801 0.76013514 0.76074939]\n",
      "0.7592137592137592\n"
     ]
    }
   ],
   "source": [
    "import warnings\n",
    "\n",
    "warnings.filterwarnings('ignore')\n",
    "\n",
    "scores = np.zeros(shape = (10,))\n",
    "\n",
    "for i in range(0, 10):\n",
    "    for j in range(0, 10):\n",
    "        if(i != j):\n",
    "            svc.fit(np.append(X_pos[pospl * j : pospl * (j + 1)], X_neg[negpl * j : negpl * (j + 1)], axis = 0),\n",
    "                    np.append(y_pos[pospl * j : pospl * (j + 1)], y_neg[negpl * j : negpl * (j + 1)], axis = 0))\n",
    "    scores[i] = svc.score(np.append(X_pos[pospl * i : pospl * (i + 1)], X_neg[negpl * i : negpl * (i + 1)], axis = 0),\n",
    "                          np.append(y_pos[pospl * i : pospl * (i + 1)], y_neg[negpl * i : negpl * (i + 1)], axis = 0))\n",
    "\n",
    "print(scores)\n",
    "\n",
    "score_sum = 0\n",
    "\n",
    "for i in range(0, 10):\n",
    "    score_sum = score_sum + scores[i]\n",
    "\n",
    "score_mean = score_sum / 10\n",
    "\n",
    "print(score_mean)"
   ]
  },
  {
   "cell_type": "code",
   "execution_count": 10,
   "metadata": {},
   "outputs": [
    {
     "name": "stdout",
     "output_type": "stream",
     "text": [
      "GaussianNB:\n",
      "[0.79275407 0.79637592 0.78961916 0.79391892 0.79514742 0.8022113\n",
      " 0.78501229 0.7985258  0.79484029 0.80436118]\n",
      "0.795276635317317\n",
      "\n",
      "BernoulliNB:\n",
      "[0.76420018 0.754914   0.76504914 0.75644963 0.75552826 0.75644963\n",
      " 0.75798526 0.76904177 0.76873464 0.75675676]\n",
      "0.7605109275127697\n"
     ]
    }
   ],
   "source": [
    "from sklearn.model_selection import cross_val_score\n",
    "\n",
    "gnb_scores = cross_val_score(gnb, X, y, cv=10, scoring='accuracy')\n",
    "print('GaussianNB:')\n",
    "print(gnb_scores)\n",
    "print(gnb_scores.mean())\n",
    "print()\n",
    "\n",
    "bnb_scores = cross_val_score(bnb, X, y, cv=10, scoring='accuracy', n_jobs = -1)\n",
    "print('BernoulliNB:')\n",
    "print(bnb_scores)\n",
    "print(bnb_scores.mean())"
   ]
  },
  {
   "cell_type": "code",
   "execution_count": 11,
   "metadata": {},
   "outputs": [
    {
     "name": "stdout",
     "output_type": "stream",
     "text": [
      "SVC:\n",
      "[0.7583666  0.75214988 0.75399263 0.75429975 0.75890663 0.75429975\n",
      " 0.75952088 0.75890663 0.75522113 0.7536855 ]\n",
      "0.7559349396008899\n"
     ]
    }
   ],
   "source": [
    "svc_scores = cross_val_score(svc, X, y, cv=10, scoring='accuracy', n_jobs = -1)\n",
    "print('SVC:')\n",
    "print(svc_scores)\n",
    "print(svc_scores.mean())"
   ]
  },
  {
   "cell_type": "code",
   "execution_count": 61,
   "metadata": {},
   "outputs": [
    {
     "name": "stdout",
     "output_type": "stream",
     "text": [
      "SGD:\n",
      "[0.79490329 0.79330467 0.77948403 0.24078624 0.78777641 0.80374693\n",
      " 0.78593366 0.78286241 0.79576167 0.79944717]\n",
      "0.7364006479335002\n"
     ]
    }
   ],
   "source": [
    "sgd_scores = cross_val_score(sgd, X, y, cv=10, scoring='accuracy', n_jobs = -1)\n",
    "print('SGD:')\n",
    "print(sgd_scores)\n",
    "print(sgd_scores.mean())"
   ]
  },
  {
   "cell_type": "code",
   "execution_count": 35,
   "metadata": {},
   "outputs": [
    {
     "name": "stdout",
     "output_type": "stream",
     "text": [
      "混淆矩阵:\n",
      "[[23451  1269]\n",
      " [ 5403  2438]]\n",
      "P = 0.8127469328342691\n",
      "R = 0.9486650485436893\n",
      "F1 = 0.8754619778250644\n"
     ]
    }
   ],
   "source": [
    "from sklearn.metrics import confusion_matrix\n",
    "\n",
    "gnb.fit(X, y)\n",
    "y_predict = gnb.predict(X)\n",
    "\n",
    "mat = confusion_matrix(y, y_predict)\n",
    "\n",
    "print(\"混淆矩阵:\")\n",
    "print(mat)\n",
    "\n",
    "P = mat[0, 0]/(mat[0, 0] + mat[1, 0])\n",
    "print('P =', P)\n",
    "\n",
    "R = mat[0, 0]/(mat[0, 0] + mat[0, 1])\n",
    "print('R =', R)\n",
    "\n",
    "F1 = (2 * P * R)/(P + R)\n",
    "print('F1 =', F1)"
   ]
  },
  {
   "cell_type": "code",
   "execution_count": 12,
   "metadata": {},
   "outputs": [
    {
     "name": "stderr",
     "output_type": "stream",
     "text": [
      "c:\\users\\zhenm\\appdata\\local\\programs\\python\\python37\\lib\\site-packages\\sklearn\\svm\\base.py:193: FutureWarning: The default value of gamma will change from 'auto' to 'scale' in version 0.22 to account better for unscaled features. Set gamma explicitly to 'auto' or 'scale' to avoid this warning.\n",
      "  \"avoid this warning.\", FutureWarning)\n"
     ]
    },
    {
     "name": "stdout",
     "output_type": "stream",
     "text": [
      "[-0.99980744 -0.99976772 -0.99986222 ... -1.00006587 -1.00003594\n",
      "  0.32301813]\n"
     ]
    }
   ],
   "source": [
    "svc.fit(X, y)\n",
    "y_scores = svc.decision_function(X)\n",
    "\n",
    "print(y_scores)"
   ]
  },
  {
   "cell_type": "code",
   "execution_count": 62,
   "metadata": {},
   "outputs": [
    {
     "name": "stdout",
     "output_type": "stream",
     "text": [
      "[19034344.23684525 10628144.51141065 26886598.41835039 ...\n",
      " 19222015.10226377 24929582.42727242 98231590.58210017]\n"
     ]
    }
   ],
   "source": [
    "sgd.fit(X, y)\n",
    "sgd_y_scores = sgd.decision_function(X)\n",
    "\n",
    "print(sgd_y_scores)"
   ]
  },
  {
   "cell_type": "code",
   "execution_count": 63,
   "metadata": {},
   "outputs": [
    {
     "name": "stdout",
     "output_type": "stream",
     "text": [
      "[0.19034344 0.10628145 0.26886598 ... 0.19222015 0.24929582 0.98231591]\n"
     ]
    }
   ],
   "source": [
    "sgd_y_sss = sgd_y_scores / 100000000\n",
    "\n",
    "print(sgd_y_sss)"
   ]
  },
  {
   "cell_type": "code",
   "execution_count": 40,
   "metadata": {},
   "outputs": [
    {
     "name": "stdout",
     "output_type": "stream",
     "text": [
      "2438   5403\n",
      "1269   23451\n"
     ]
    }
   ],
   "source": [
    "TP = 0\n",
    "TN = 0\n",
    "FP = 0\n",
    "FN = 0\n",
    "\n",
    "for i in range(0, 32561):\n",
    "    if(y[i] == 1):\n",
    "        if(y_predict[i] == 1):\n",
    "            TP = TP + 1\n",
    "        else:\n",
    "            FN = FN + 1\n",
    "    else:\n",
    "        if(y_predict[i] == 1):\n",
    "            FP = FP + 1\n",
    "        else:\n",
    "            TN = TN + 1\n",
    "\n",
    "print(TP, ' ', FN)\n",
    "print(FP, ' ', TN)"
   ]
  },
  {
   "cell_type": "code",
   "execution_count": 14,
   "metadata": {},
   "outputs": [
    {
     "name": "stdout",
     "output_type": "stream",
     "text": [
      "[-0.99980744 -0.99976772 -0.99986222 ... -1.00006587 -1.00003594\n",
      "  0.32301813]\n",
      "(32561,)\n",
      "[0 0 0 ... 0 0 1]\n"
     ]
    }
   ],
   "source": [
    "print(y_scores)\n",
    "print(y_scores.shape)\n",
    "print(y)"
   ]
  },
  {
   "cell_type": "code",
   "execution_count": 52,
   "metadata": {},
   "outputs": [
    {
     "name": "stdout",
     "output_type": "stream",
     "text": [
      "[9.62786181e-05 1.16138377e-04 6.88888180e-05 ... 0.00000000e+00\n",
      " 0.00000000e+00 6.61509065e-01]\n"
     ]
    }
   ],
   "source": [
    "y_sss = (y_scores + 1) /2\n",
    "\n",
    "for i in range(0, 32561):\n",
    "    if(y_sss[i] < 0):\n",
    "        y_sss[i] = 0\n",
    "    if(y_sss[i] > 1):\n",
    "        y_sss[i] = 1\n",
    "\n",
    "print(y_sss)"
   ]
  },
  {
   "cell_type": "code",
   "execution_count": 53,
   "metadata": {},
   "outputs": [
    {
     "name": "stdout",
     "output_type": "stream",
     "text": [
      "TP:\n",
      "[ 179  597  896 1252 6057 6602 6889 7160 7503 7723 7841]\n",
      "\n",
      "TN:\n",
      "[24720 24713 24708 24702 24689 24667 24637 24582 24517 24342     0]\n",
      "\n",
      "FP:\n",
      "[    0     7    12    18    31    53    83   138   203   378 24720]\n",
      "\n",
      "FN:\n",
      "[7662 7244 6945 6589 1784 1239  952  681  338  118    0]\n"
     ]
    }
   ],
   "source": [
    "y_set = np.ones(shape = (32561,), dtype = int)\n",
    "\n",
    "y_TP = np.zeros(shape = (11,), dtype = int)\n",
    "y_TN = np.zeros(shape = (11,), dtype = int)\n",
    "y_FP = np.zeros(shape = (11,), dtype = int)\n",
    "y_FN = np.zeros(shape = (11,), dtype = int)\n",
    "\n",
    "for t in range(0, 11):\n",
    "    th = 1 - 0.1 * t\n",
    "    for i in range(0, 32561):\n",
    "        if(y_sss[i] < th):\n",
    "            y_set[i] = 0\n",
    "        else:\n",
    "            y_set[i] = 1\n",
    "    \n",
    "    for j in range(0, 32561):\n",
    "        if(y[j] == 1):\n",
    "            if(y_set[j] == 1):\n",
    "                y_TP[t] = y_TP[t] + 1\n",
    "            else:\n",
    "                y_FN[t] = y_FN[t] + 1\n",
    "        else:\n",
    "            if(y_set[j] == 1):\n",
    "                y_FP[t] = y_FP[t] + 1\n",
    "            else:\n",
    "                y_TN[t] = y_TN[t] + 1\n",
    "            \n",
    "print('TP:')\n",
    "print(y_TP)\n",
    "print()\n",
    "print('TN:')\n",
    "print(y_TN)\n",
    "print()\n",
    "print('FP:')\n",
    "print(y_FP)\n",
    "print()\n",
    "print('FN:')\n",
    "print(y_FN)"
   ]
  },
  {
   "cell_type": "code",
   "execution_count": 54,
   "metadata": {},
   "outputs": [
    {
     "name": "stdout",
     "output_type": "stream",
     "text": [
      "[1.         0.9884106  0.98678414 0.98582677 0.99490802 0.99203606\n",
      " 0.98809524 0.98109071 0.97365689 0.95333909 0.24080956]\n",
      "\n",
      "[0.02282872 0.07613825 0.11427114 0.15967351 0.772478   0.84198444\n",
      " 0.87858691 0.91314883 0.95689325 0.9849509  1.        ]\n",
      "\n",
      "[0.0446384  0.14138544 0.20482341 0.27483262 0.86969632 0.91087196\n",
      " 0.93012894 0.94590131 0.96520229 0.96888722 0.3881491 ]\n"
     ]
    }
   ],
   "source": [
    "y_P = np.zeros(shape = (11,), dtype = float)\n",
    "y_R = np.zeros(shape = (11,), dtype = float)\n",
    "y_F1 = np.zeros(shape = (11,), dtype = float)\n",
    "\n",
    "for i in range(0, 11):\n",
    "    y_P[i] = y_TP[i]/(y_TP[i] + y_FP[i])\n",
    "    y_R[i] = y_TP[i]/(y_TP[i] + y_FN[i])\n",
    "    y_F1[i] = (2 * y_P[i] * y_R[i])/(y_P[i] + y_R[i])\n",
    "    \n",
    "print(y_P)\n",
    "print()\n",
    "print(y_R)\n",
    "print()\n",
    "print(y_F1)"
   ]
  },
  {
   "cell_type": "code",
   "execution_count": 55,
   "metadata": {},
   "outputs": [
    {
     "data": {
      "text/plain": [
       "[<matplotlib.lines.Line2D at 0x19b58062cc8>]"
      ]
     },
     "execution_count": 55,
     "metadata": {},
     "output_type": "execute_result"
    },
    {
     "data": {
      "image/png": "[encoded data removed]",
      "text/plain": [
       "<Figure size 432x288 with 1 Axes>"
      ]
     },
     "metadata": {
      "needs_background": "light"
     },
     "output_type": "display_data"
    }
   ],
   "source": [
    "import matplotlib.pyplot as plt\n",
    "\n",
    "plt.plot(y_R,y_P)"
   ]
  },
  {
   "cell_type": "code",
   "execution_count": 56,
   "metadata": {},
   "outputs": [
    {
     "name": "stdout",
     "output_type": "stream",
     "text": [
      "[0.02282872 0.07613825 0.11427114 0.15967351 0.772478   0.84198444\n",
      " 0.87858691 0.91314883 0.95689325 0.9849509  1.        ]\n",
      "\n",
      "[0.00000000e+00 2.83171521e-04 4.85436893e-04 7.28155340e-04\n",
      " 1.25404531e-03 2.14401294e-03 3.35760518e-03 5.58252427e-03\n",
      " 8.21197411e-03 1.52912621e-02 1.00000000e+00]\n"
     ]
    }
   ],
   "source": [
    "y_TPR = np.zeros(shape = (11,), dtype = float)\n",
    "y_FPR = np.zeros(shape = (11,), dtype = float)\n",
    "\n",
    "for i in range(0, 11):\n",
    "    y_TPR[i] = y_TP[i]/(y_TP[i] + y_FN[i])\n",
    "    y_FPR[i] = y_FP[i]/(y_TN[i] + y_FP[i])\n",
    "    \n",
    "print(y_TPR)\n",
    "print()\n",
    "print(y_FPR)"
   ]
  },
  {
   "cell_type": "code",
   "execution_count": 57,
   "metadata": {},
   "outputs": [
    {
     "data": {
      "text/plain": [
       "[<matplotlib.lines.Line2D at 0x19b580d6c08>]"
      ]
     },
     "execution_count": 57,
     "metadata": {},
     "output_type": "execute_result"
    },
    {
     "data": {
      "image/png": "[encoded data removed]",
      "text/plain": [
       "<Figure size 432x288 with 1 Axes>"
      ]
     },
     "metadata": {
      "needs_background": "light"
     },
     "output_type": "display_data"
    }
   ],
   "source": [
    "plt.plot(y_FPR,y_TPR)"
   ]
  },
  {
   "cell_type": "code",
   "execution_count": 58,
   "metadata": {},
   "outputs": [
    {
     "name": "stdout",
     "output_type": "stream",
     "text": [
      "0.990698573674433\n"
     ]
    }
   ],
   "source": [
    "AUC = 0\n",
    "\n",
    "for i in range(0, 10):\n",
    "    AUC = AUC + (((y_FPR[i + 1] - y_FPR[i]) * (y_TPR[i + 1] + y_TPR[i])) / 2)\n",
    "\n",
    "print(AUC)"
   ]
  },
  {
   "cell_type": "code",
   "execution_count": 13,
   "metadata": {},
   "outputs": [
    {
     "data": {
      "text/plain": [
       "[<matplotlib.lines.Line2D at 0x20b75c7ee88>]"
      ]
     },
     "execution_count": 13,
     "metadata": {},
     "output_type": "execute_result"
    },
    {
     "data": {
      "image/png": "[encoded data removed]",
      "text/plain": [
       "<Figure size 432x288 with 1 Axes>"
      ]
     },
     "metadata": {
      "needs_background": "light"
     },
     "output_type": "display_data"
    }
   ],
   "source": [
    "from sklearn.metrics import precision_recall_curve\n",
    " \n",
    "precision, recall, _ = precision_recall_curve(y, y_predict)\n",
    " \n",
    "plt.plot(recall,precision)"
   ]
  },
  {
   "cell_type": "code",
   "execution_count": 14,
   "metadata": {},
   "outputs": [
    {
     "data": {
      "text/plain": [
       "[<matplotlib.lines.Line2D at 0x20b75d0b688>]"
      ]
     },
     "execution_count": 14,
     "metadata": {},
     "output_type": "execute_result"
    },
    {
     "data": {
      "image/png": "[encoded data removed]",
      "text/plain": [
       "<Figure size 432x288 with 1 Axes>"
      ]
     },
     "metadata": {
      "needs_background": "light"
     },
     "output_type": "display_data"
    }
   ],
   "source": [
    "from sklearn.metrics import roc_curve\n",
    "\n",
    "fpr, tpr, thresholds = roc_curve(y, y_predict)\n",
    "\n",
    "plt.plot(fpr,tpr)"
   ]
  },
  {
   "cell_type": "code",
   "execution_count": 16,
   "metadata": {},
   "outputs": [
    {
     "name": "stdout",
     "output_type": "stream",
     "text": [
      "AUC = 0.6297973884473326\n"
     ]
    }
   ],
   "source": [
    "from sklearn.metrics import auc\n",
    "\n",
    "AUC = auc(fpr, tpr)\n",
    "\n",
    "print('AUC =', AUC)"
   ]
  }
 ],
 "metadata": {
  "kernelspec": {
   "display_name": "Python 3",
   "language": "python",
   "name": "python3"
  },
  "language_info": {
   "codemirror_mode": {
    "name": "ipython",
    "version": 3
   },
   "file_extension": ".py",
   "mimetype": "text/x-python",
   "name": "python",
   "nbconvert_exporter": "python",
   "pygments_lexer": "ipython3",
   "version": "3.7.4"
  }
 },
 "nbformat": 4,
 "nbformat_minor": 2
}
