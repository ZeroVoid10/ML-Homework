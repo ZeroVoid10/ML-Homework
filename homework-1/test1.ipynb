{
 "cells": [
  {
   "cell_type": "code",
   "execution_count": 1,
   "metadata": {},
   "outputs": [],
   "source": [
    "import numpy as np\n",
    "import pandas as pd\n",
    "\n",
    "data = pd.read_csv('adult.csv', header=None, index_col=False,\n",
    "                   names=['年龄','单位性质','权重','学历','受教育时长','婚姻状况','职业','家庭状况','种族','性别',\n",
    "                          '资产所得','资产损失','周工作时长','原籍','收入'])\n",
    "\n",
    "data_dummies = pd.get_dummies(data)\n",
    "\n",
    "features = data_dummies.loc[:,'年龄':'原籍_ Yugoslavia']\n",
    "\n",
    "X = features.values\n",
    "y = data_dummies['收入_ >50K'].values"
   ]
  },
  {
   "cell_type": "code",
   "execution_count": 2,
   "metadata": {},
   "outputs": [
    {
     "name": "stdout",
     "output_type": "stream",
     "text": [
      "(32561, 108)\n",
      "(32561,)\n"
     ]
    }
   ],
   "source": [
    "print(X.shape)\n",
    "print(y.shape)"
   ]
  },
  {
   "cell_type": "code",
   "execution_count": 7,
   "metadata": {},
   "outputs": [
    {
     "name": "stdout",
     "output_type": "stream",
     "text": [
      "pos = 24720\n",
      "neg = 7841\n"
     ]
    }
   ],
   "source": [
    "import numpy as np\n",
    "\n",
    "pos = 0\n",
    "neg = 0\n",
    "\n",
    "for i in range(0, 32561):\n",
    "    if(y[i] == 0):\n",
    "        pos = pos + 1\n",
    "    else:\n",
    "        neg = neg + 1\n",
    "\n",
    "print('pos =', pos)\n",
    "print('neg =', neg)"
   ]
  },
  {
   "cell_type": "code",
   "execution_count": 31,
   "metadata": {},
   "outputs": [
    {
     "name": "stdout",
     "output_type": "stream",
     "text": [
      "[[    39  77516     13 ...      1      0      0]\n",
      " [    50  83311     13 ...      1      0      0]\n",
      " [    38 215646      9 ...      1      0      0]\n",
      " ...\n",
      " [    58 151910      9 ...      1      0      0]\n",
      " [    22 201490      9 ...      1      0      0]\n",
      " [    52 287927      9 ...      1      0      0]]\n",
      "\n",
      "[[    39  77516     13 ...      1      0      0]\n",
      " [    50  83311     13 ...      1      0      0]\n",
      " [    38 215646      9 ...      1      0      0]\n",
      " ...\n",
      " [    27 257302     12 ...      1      0      0]\n",
      " [    58 151910      9 ...      1      0      0]\n",
      " [    22 201490      9 ...      1      0      0]]\n",
      "\n",
      "[[    52 209642      9 ...      1      0      0]\n",
      " [    31  45781     14 ...      1      0      0]\n",
      " [    42 159449     13 ...      1      0      0]\n",
      " ...\n",
      " [    53 321865     14 ...      1      0      0]\n",
      " [    40 154374      9 ...      1      0      0]\n",
      " [    52 287927      9 ...      1      0      0]]\n",
      "\n",
      "[0 0 0 ... 0 0 0]\n",
      "\n",
      "[1 1 1 ... 1 1 1]\n"
     ]
    }
   ],
   "source": [
    "pos = 0\n",
    "neg = 0\n",
    "\n",
    "X_pos = np.zeros(shape = (24720,108), dtype = int)\n",
    "X_neg = np.zeros(shape = (7841,108), dtype = int)\n",
    "y_pos = np.zeros(shape = (24720,), dtype = int)\n",
    "y_neg = np.ones(shape = (7841,), dtype = int)\n",
    "\n",
    "for i in range(0, 32561):\n",
    "    if(y[i] == 0):\n",
    "        X_pos[pos] = X[i]\n",
    "        pos = pos + 1\n",
    "    else:\n",
    "        X_neg[neg] = X[i]\n",
    "        neg = neg + 1\n",
    "\n",
    "print(X)\n",
    "print()\n",
    "print(X_pos)\n",
    "print()\n",
    "print(X_neg)\n",
    "print()\n",
    "print(y_pos)\n",
    "print()\n",
    "print(y_neg)"
   ]
  },
  {
   "cell_type": "code",
   "execution_count": 32,
   "metadata": {},
   "outputs": [
    {
     "name": "stdout",
     "output_type": "stream",
     "text": [
      "pospl = 2472\n",
      "negpl = 784\n",
      "pl = 3256\n"
     ]
    }
   ],
   "source": [
    "pospl = (int)(pos/10)\n",
    "negpl = (int)(neg/10)\n",
    "pl = pospl + negpl\n",
    "\n",
    "print('pospl =', pospl)\n",
    "print('negpl =', negpl)\n",
    "print('pl =', pl)"
   ]
  },
  {
   "cell_type": "code",
   "execution_count": 33,
   "metadata": {},
   "outputs": [],
   "source": [
    "from sklearn.naive_bayes import GaussianNB\n",
    "\n",
    "gnb = GaussianNB()"
   ]
  },
  {
   "cell_type": "code",
   "execution_count": 34,
   "metadata": {},
   "outputs": [],
   "source": [
    "from sklearn.naive_bayes import BernoulliNB\n",
    "\n",
    "bnb = BernoulliNB()"
   ]
  },
  {
   "cell_type": "code",
   "execution_count": 43,
   "metadata": {},
   "outputs": [
    {
     "name": "stdout",
     "output_type": "stream",
     "text": [
      "[0.78869779 0.79207617 0.78347666 0.78839066 0.78931204 0.79637592\n",
      " 0.77886978 0.78900491 0.78716216 0.79914005]\n",
      "0.7892506142506142\n"
     ]
    }
   ],
   "source": [
    "scores = np.zeros(shape = (10,))\n",
    "\n",
    "for i in range(0, 10):\n",
    "    for j in range(0, 10):\n",
    "        if(i != j):\n",
    "            gnb.fit(np.append(X_pos[pospl * j : pospl * (j + 1)], X_neg[negpl * j : negpl * (j + 1)], axis = 0),\n",
    "                    np.append(y_pos[pospl * j : pospl * (j + 1)], y_neg[negpl * j : negpl * (j + 1)], axis = 0))\n",
    "    scores[i] = gnb.score(np.append(X_pos[pospl * i : pospl * (i + 1)], X_neg[negpl * i : negpl * (i + 1)], axis = 0),\n",
    "                          np.append(y_pos[pospl * i : pospl * (i + 1)], y_neg[negpl * i : negpl * (i + 1)], axis = 0))\n",
    "\n",
    "print(scores)\n",
    "\n",
    "score_sum = 0\n",
    "\n",
    "for i in range(0, 10):\n",
    "    score_sum = score_sum + scores[i]\n",
    "\n",
    "score_mean = score_sum / 10\n",
    "\n",
    "print(score_mean)"
   ]
  },
  {
   "cell_type": "code",
   "execution_count": 14,
   "metadata": {},
   "outputs": [
    {
     "name": "stdout",
     "output_type": "stream",
     "text": [
      "GaussianNB:\n",
      "[0.79275407 0.79637592 0.78961916 0.79391892 0.79514742 0.8022113\n",
      " 0.78501229 0.7985258  0.79484029 0.80436118]\n",
      "0.795276635317317\n",
      "\n",
      "BernoulliNB:\n",
      "[0.76420018 0.754914   0.76504914 0.75644963 0.75552826 0.75644963\n",
      " 0.75798526 0.76904177 0.76873464 0.75675676]\n",
      "0.7605109275127697\n"
     ]
    }
   ],
   "source": [
    "from sklearn.model_selection import cross_val_score\n",
    "\n",
    "gnb_scores = cross_val_score(gnb, X, y, cv=10, scoring='accuracy')\n",
    "print('GaussianNB:')\n",
    "print(gnb_scores)\n",
    "print(gnb_scores.mean())\n",
    "print()\n",
    "\n",
    "bnb_scores = cross_val_score(bnb, X, y, cv=10, scoring='accuracy', n_jobs = -1)\n",
    "print('BernoulliNB:')\n",
    "print(bnb_scores)\n",
    "print(bnb_scores.mean())"
   ]
  },
  {
   "cell_type": "code",
   "execution_count": 26,
   "metadata": {},
   "outputs": [
    {
     "name": "stdout",
     "output_type": "stream",
     "text": [
      "混淆矩阵:\n",
      "[[23451  1269]\n",
      " [ 5403  2438]]\n",
      "P = 0.8127469328342691\n",
      "R = 0.9486650485436893\n",
      "F1 = 0.8754619778250644\n"
     ]
    }
   ],
   "source": [
    "from sklearn.metrics import confusion_matrix\n",
    "\n",
    "gnb.fit(X, y)\n",
    "y_predict = gnb.predict(X)\n",
    "\n",
    "mat = confusion_matrix(y, y_predict)\n",
    "\n",
    "print(\"混淆矩阵:\")\n",
    "print(mat)\n",
    "\n",
    "P = mat[0, 0]/(mat[0, 0] + mat[1, 0])\n",
    "print('P =', P)\n",
    "\n",
    "R = mat[0, 0]/(mat[0, 0] + mat[0, 1])\n",
    "print('R =', R)\n",
    "\n",
    "F1 = (2 * P * R)/(P + R)\n",
    "print('F1 =', F1)"
   ]
  },
  {
   "cell_type": "code",
   "execution_count": 34,
   "metadata": {},
   "outputs": [
    {
     "name": "stdout",
     "output_type": "stream",
     "text": [
      "23451   1269\n",
      "5403   2438\n"
     ]
    }
   ],
   "source": [
    "TP = 0\n",
    "TN = 0\n",
    "FP = 0\n",
    "FN = 0\n",
    "\n",
    "for i in range(0, 32561):\n",
    "    if(y[i] == 0):\n",
    "        if(y_predict[i] == 0):\n",
    "            TP = TP + 1\n",
    "        else:\n",
    "            FN = FN + 1\n",
    "    else:\n",
    "        if(y_predict[i] == 0):\n",
    "            FP = FP + 1\n",
    "        else:\n",
    "            TN = TN + 1\n",
    "\n",
    "print(TP, ' ', FN)\n",
    "print(FP, ' ', TN)"
   ]
  },
  {
   "cell_type": "code",
   "execution_count": 30,
   "metadata": {},
   "outputs": [
    {
     "data": {
      "text/plain": [
       "[<matplotlib.lines.Line2D at 0x26026df9c88>]"
      ]
     },
     "execution_count": 30,
     "metadata": {},
     "output_type": "execute_result"
    },
    {
     "data": {
      "image/png": "[encoded data removed]",
      "text/plain": [
       "<Figure size 432x288 with 1 Axes>"
      ]
     },
     "metadata": {
      "needs_background": "light"
     },
     "output_type": "display_data"
    }
   ],
   "source": [
    "from sklearn.metrics import precision_recall_curve\n",
    "import matplotlib.pyplot as plt\n",
    " \n",
    "precision, recall, _ = precision_recall_curve(y, y_predict)\n",
    " \n",
    "plt.plot(recall,precision)"
   ]
  }
 ],
 "metadata": {
  "kernelspec": {
   "display_name": "Python 3",
   "language": "python",
   "name": "python3"
  },
  "language_info": {
   "codemirror_mode": {
    "name": "ipython",
    "version": 3
   },
   "file_extension": ".py",
   "mimetype": "text/x-python",
   "name": "python",
   "nbconvert_exporter": "python",
   "pygments_lexer": "ipython3",
   "version": "3.8.0"
  }
 },
 "nbformat": 4,
 "nbformat_minor": 2
}
