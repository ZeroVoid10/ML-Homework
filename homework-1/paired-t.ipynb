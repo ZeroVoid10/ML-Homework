{
 "cells": [
  {
   "cell_type": "code",
   "execution_count": 21,
   "metadata": {},
   "outputs": [
    {
     "name": "stdout",
     "output_type": "stream",
     "text": [
      "[0.21068796 0.20485258 0.21160934 0.20577396 0.21222359 0.21253071\n",
      " 0.21713759 0.75921376 0.20945946 0.20546683]\n",
      "[1. 1. 1. 1. 1. 1. 1. 1. 1. 1.]\n"
     ]
    }
   ],
   "source": [
    "import numpy as np\n",
    "\n",
    "y1 = [0.78931204,0.79514742,0.78839066,0.79422604,0.78777641,0.78746929,0.78286241,0.24078624,0.79054054,0.79453317]\n",
    "y2 = [0.,0.,0.,0.,0.,0.,0.,0.,0.,0.]\n",
    "\n",
    "y = np.ones(shape = (10,))\n",
    "\n",
    "y1 = y - y1\n",
    "y2 = y - y2\n",
    "\n",
    "print(y1)\n",
    "print(y2)"
   ]
  },
  {
   "cell_type": "code",
   "execution_count": 22,
   "metadata": {},
   "outputs": [
    {
     "name": "stdout",
     "output_type": "stream",
     "text": [
      "13.38075357759302\n",
      "算法1更好\n"
     ]
    }
   ],
   "source": [
    "alldelta = 0\n",
    "deltai = np.zeros(shape = (10,))\n",
    "\n",
    "for i in range(0, 10):\n",
    "    deltai[i] = y1[i] - y2[i]\n",
    "    alldelta = alldelta + deltai[i]\n",
    "    \n",
    "meandelta = alldelta / 10\n",
    "\n",
    "allfc = 0\n",
    "\n",
    "for i in range(0, 10):\n",
    "    allfc = allfc + (deltai[i] - meandelta) * (deltai[i] - meandelta)\n",
    "\n",
    "fc = allfc / 9\n",
    "\n",
    "taot = abs(((10**0.5) * meandelta) / (fc ** 0.5))\n",
    "\n",
    "print(taot)\n",
    "           \n",
    "if taot < 2.262:\n",
    "    print('两算法无显著区别')\n",
    "else:\n",
    "    all1 = 0\n",
    "    all2 = 0\n",
    "    for i in range(0, 10):\n",
    "        all1 = all1 + y1[i]\n",
    "        all2 = all2 + y2[i]\n",
    "        mean1 = all1 / 10\n",
    "        mean2 = all2 / 10\n",
    "    if mean1 <= mean2:\n",
    "        print('算法1更好')\n",
    "    else:\n",
    "        print('算法2更好')"
   ]
  }
 ],
 "metadata": {
  "kernelspec": {
   "display_name": "Python 3",
   "language": "python",
   "name": "python3"
  },
  "language_info": {
   "codemirror_mode": {
    "name": "ipython",
    "version": 3
   },
   "file_extension": ".py",
   "mimetype": "text/x-python",
   "name": "python",
   "nbconvert_exporter": "python",
   "pygments_lexer": "ipython3",
   "version": "3.7.4"
  }
 },
 "nbformat": 4,
 "nbformat_minor": 2
}
