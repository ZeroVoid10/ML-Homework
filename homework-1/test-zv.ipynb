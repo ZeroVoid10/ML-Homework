{
 "cells": [
  {
   "cell_type": "markdown",
   "metadata": {},
   "source": [
    "# Week2 03/03 第一次编程作业\n",
    "\n",
    "作业：\n",
    "- 选取某UCI分类数据集，划分数据集，用10折交叉验证，选用两个现成分类算法（或一个算法参数不同），得到分类模型A和B，给出交叉验证预测结果。\n",
    "- 对两模型的交叉验证预测结果，分别给出混淆矩阵、P、R和F1值，做出P-R曲线、ROC曲线，并求AUC。\n",
    "- 应用paired t-test假设检验，比较两个模型性能优劣。\n",
    "- 尽可能用方法、函数来编程。"
   ]
  },
  {
   "cell_type": "code",
   "execution_count": 4,
   "metadata": {},
   "outputs": [
    {
     "name": "stdout",
     "output_type": "stream",
     "text": [
      "                  age  workclass       fnlwgt  education        education-num  \\\n",
      "50   Self-emp-not-inc      83311    Bachelors         13   Married-civ-spouse   \n",
      "38            Private     215646      HS-grad          9             Divorced   \n",
      "53            Private     234721         11th          7   Married-civ-spouse   \n",
      "28            Private     338409    Bachelors         13   Married-civ-spouse   \n",
      "37            Private     284582      Masters         14   Married-civ-spouse   \n",
      "..                ...        ...          ...        ...                  ...   \n",
      "27            Private     257302   Assoc-acdm         12   Married-civ-spouse   \n",
      "40            Private     154374      HS-grad          9   Married-civ-spouse   \n",
      "58            Private     151910      HS-grad          9              Widowed   \n",
      "22            Private     201490      HS-grad          9        Never-married   \n",
      "52       Self-emp-inc     287927      HS-grad          9   Married-civ-spouse   \n",
      "\n",
      "        marital-status      occupation relationship     race    sex  \\\n",
      "50     Exec-managerial         Husband        White     Male      0   \n",
      "38   Handlers-cleaners   Not-in-family        White     Male      0   \n",
      "53   Handlers-cleaners         Husband        Black     Male      0   \n",
      "28      Prof-specialty            Wife        Black   Female      0   \n",
      "37     Exec-managerial            Wife        White   Female      0   \n",
      "..                 ...             ...          ...      ...    ...   \n",
      "27        Tech-support            Wife        White   Female      0   \n",
      "40   Machine-op-inspct         Husband        White     Male      0   \n",
      "58        Adm-clerical       Unmarried        White   Female      0   \n",
      "22        Adm-clerical       Own-child        White     Male      0   \n",
      "52     Exec-managerial            Wife        White   Female  15024   \n",
      "\n",
      "    capital-gain  capital-loss  hours-per-week native-country  \n",
      "50             0            13   United-States          <=50K  \n",
      "38             0            40   United-States          <=50K  \n",
      "53             0            40   United-States          <=50K  \n",
      "28             0            40            Cuba          <=50K  \n",
      "37             0            40   United-States          <=50K  \n",
      "..           ...           ...             ...            ...  \n",
      "27             0            38   United-States          <=50K  \n",
      "40             0            40   United-States           >50K  \n",
      "58             0            40   United-States          <=50K  \n",
      "22             0            20   United-States          <=50K  \n",
      "52             0            40   United-States           >50K  \n",
      "\n",
      "[32560 rows x 14 columns]\n"
     ]
    }
   ],
   "source": [
    "import numpy as np\n",
    "import pandas as pd\n",
    "\n",
    "dataset = pd.read_csv('adult/adult.data', header=0, \n",
    "                     names=['age', 'workclass', 'fnlwgt', 'education', 'education-num', 'marital-status', 'occupation',\n",
    "                           'relationship','race', 'sex', 'capital-gain', 'capital-loss', 'hours-per-week', 'native-country'])\n",
    "print(dataset)"
   ]
  },
  {
   "cell_type": "code",
   "execution_count": null,
   "metadata": {},
   "outputs": [],
   "source": []
  }
 ],
 "metadata": {
  "kernelspec": {
   "display_name": "Python 3",
   "language": "python",
   "name": "python3"
  },
  "language_info": {
   "codemirror_mode": {
    "name": "ipython",
    "version": 3
   },
   "file_extension": ".py",
   "mimetype": "text/x-python",
   "name": "python",
   "nbconvert_exporter": "python",
   "pygments_lexer": "ipython3",
   "version": "3.8.0"
  }
 },
 "nbformat": 4,
 "nbformat_minor": 4
}
